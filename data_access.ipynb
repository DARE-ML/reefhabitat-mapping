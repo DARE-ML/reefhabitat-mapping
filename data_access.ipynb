{
 "cells": [
  {
   "cell_type": "code",
   "execution_count": 20,
   "metadata": {},
   "outputs": [],
   "source": [
    "import os\n",
    "from pyrsgis import raster\n",
    "from PIL import Image\n",
    "\n",
    "os.chdir(\"../Landsat-5_data\")\n",
    "pic1 = 'L5097068_06820090916.tif'\n",
    "pic2 = 'LT50970681988281ASA00.tif'\n",
    "\n",
    "\n",
    "# Read the rasters as array\n",
    "ds1, features_pic1 = raster.read(pic1, bands='all')\n",
    "ds3, features_pic2 = raster.read(pic2, bands='all')"
   ]
  },
  {
   "cell_type": "code",
   "execution_count": 21,
   "metadata": {},
   "outputs": [
    {
     "name": "stdout",
     "output_type": "stream",
     "text": [
      "Pic 1:  (4, 6961, 8161)\n",
      "Pic 2:  (4, 6891, 7741)\n"
     ]
    }
   ],
   "source": [
    "print(\"Pic 1: \", features_pic1.shape)\n",
    "print(\"Pic 2: \", features_pic2.shape)"
   ]
  },
  {
   "cell_type": "code",
   "execution_count": 23,
   "metadata": {},
   "outputs": [],
   "source": [
    "im = Image.open('../Landsat-5_data/L5097068_06820090916.tif')\n",
    "im.show()"
   ]
  },
  {
   "cell_type": "code",
   "execution_count": null,
   "metadata": {},
   "outputs": [],
   "source": []
  }
 ],
 "metadata": {
  "kernelspec": {
   "display_name": "Python 3",
   "language": "python",
   "name": "python3"
  },
  "language_info": {
   "codemirror_mode": {
    "name": "ipython",
    "version": 3
   },
   "file_extension": ".py",
   "mimetype": "text/x-python",
   "name": "python",
   "nbconvert_exporter": "python",
   "pygments_lexer": "ipython3",
   "version": "3.8.2"
  }
 },
 "nbformat": 4,
 "nbformat_minor": 4
}
